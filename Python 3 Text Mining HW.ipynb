{
 "cells": [
  {
   "cell_type": "markdown",
   "metadata": {},
   "source": [
    "# Text Mining Assignment"
   ]
  },
  {
   "cell_type": "markdown",
   "metadata": {},
   "source": [
    "You are given a data file tweets.csv that contains a sample of tweets. Each tweet has been labeled as either *negative*, containing a racist or sexist sentiment (label = 1), or *neutral* (label = 0). \n",
    "You will need to perform some of the tasks we did in class to answer the following questions.  The answers to the questions should be entered in Blackboard.\n",
    "For all the tasks, you can refer to the Jupyter Notebooks we worked on in class to find the appropriate code. Some code is also given in this notebook to help you get started.\n",
    "\n",
    "If you have any technical problem loading a necessary library or module in Python, you can use R (or even Excel).  \n",
    "\n",
    "**Questions**    \n",
    "First run the starter code in the first code cell. Read tweets.csv into Pandas data frame and call it *df*. Examine the first 5 rows.\n",
    "1. How many observations are in the entire data set?\n",
    "2. How many tweets are considered to be negative? How many are neutral? (Hint: One way is to use groupby then describe method.)\n",
    "3. Run the given code in the second and the third code cells to build HT_Neutral and HT_Negative, the lists of hashtags that appear in neutral tweets and negative tweets.  Which hashtag appeared most frequently in the neutral tweets?  What is its frequency? (Hint: You might use Counter as you did with filtered_words in movie reviews example.)\n",
    "4. What about in the negative tweets?\n",
    "\n",
    "**Optional**    \n",
    "If you have time, you might try the following, not for credit:   \n",
    "Create separate word clouds for neutral hashtags and negative hashtags.   \n",
    "Create separate frequency bar charts for 10 most frequent hashtags for both groups."
   ]
  },
  {
   "cell_type": "code",
   "execution_count": null,
   "metadata": {},
   "outputs": [],
   "source": [
    "# Start with loading all relevant libraries\n",
    "import numpy as np\n",
    "import pandas as pd\n",
    "import nltk\n",
    "from os import path\n",
    "from wordcloud import WordCloud, STOPWORDS, ImageColorGenerator\n",
    "import re\n",
    "from collections import Counter\n",
    "import matplotlib.pyplot as plt\n",
    "%matplotlib inline"
   ]
  },
  {
   "cell_type": "code",
   "execution_count": null,
   "metadata": {},
   "outputs": [],
   "source": [
    "# function to collect hashtags\n",
    "def hashtag_extract(x):\n",
    "    hashtags = []\n",
    "    # Loop over the words in the tweet\n",
    "    for i in x:\n",
    "        ht = re.findall(r\"#(\\w+)\", i)\n",
    "        hashtags.append(ht)\n",
    "    return hashtags"
   ]
  },
  {
   "cell_type": "code",
   "execution_count": null,
   "metadata": {},
   "outputs": [],
   "source": [
    "# extracting hashtags from neutral tweets\n",
    "\n",
    "HT_neutral = hashtag_extract(df['tweet'][df['label'] == 0])\n",
    "\n",
    "# extracting hashtags from negative tweets\n",
    "HT_negative = hashtag_extract(df['tweet'][df['label'] == 1])\n",
    "\n",
    "# unnesting list\n",
    "HT_neutral = sum(HT_neutral,[])\n",
    "HT_negative = sum(HT_negative,[])"
   ]
  }
 ],
 "metadata": {
  "kernelspec": {
   "display_name": "Python 3",
   "language": "python",
   "name": "python3"
  },
  "language_info": {
   "codemirror_mode": {
    "name": "ipython",
    "version": 3
   },
   "file_extension": ".py",
   "mimetype": "text/x-python",
   "name": "python",
   "nbconvert_exporter": "python",
   "pygments_lexer": "ipython3",
   "version": "3.7.3"
  }
 },
 "nbformat": 4,
 "nbformat_minor": 2
}
