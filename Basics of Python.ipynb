{
 "cells": [
  {
   "cell_type": "code",
   "execution_count": 2,
   "metadata": {},
   "outputs": [
    {
     "name": "stdout",
     "output_type": "stream",
     "text": [
      "please enter a value202\n",
      "You are 202 years old and Immortal Vampire\n"
     ]
    }
   ],
   "source": [
    "age = input('please enter a value')\n",
    "if float(age) < 18:\n",
    "   print('You are' ,age, 'years not fully baked')    \n",
    "elif  float(age) < 50:\n",
    "    print('You are' ,age, 'years old and a fully grown adult')\n",
    "elif  float(age) < 75:\n",
    "    print('You are' ,age, 'years old and a Middle aged')\n",
    "elif  float(age) < 200:\n",
    "    print('You are' , age, 'years old and officially old')\n",
    "else:\n",
    "     print('You are' ,age, 'years old and Immortal Vampire')"
   ]
  },
  {
   "cell_type": "code",
   "execution_count": null,
   "metadata": {},
   "outputs": [],
   "source": []
  },
  {
   "cell_type": "code",
   "execution_count": 3,
   "metadata": {},
   "outputs": [
    {
     "name": "stdout",
     "output_type": "stream",
     "text": [
      "please enter a value100\n",
      "You are 100 years old and officially old\n"
     ]
    }
   ],
   "source": [
    "age = input('please enter a value')\n",
    "if float(age) < 18:\n",
    "   print('You are' ,age, 'years not fully baked')    \n",
    "elif  float(age) < 50:\n",
    "    print('You are' ,age, 'years old and a fully grown adult')\n",
    "elif  float(age) < 75:\n",
    "    print('You are' ,age, 'years old and a Middle aged')\n",
    "elif  float(age) < 200:\n",
    "    print('You are' , age, 'years old and officially old')\n",
    "else:\n",
    "     print('You are' ,age, 'years old and Immortal Vampire')"
   ]
  },
  {
   "cell_type": "code",
   "execution_count": null,
   "metadata": {},
   "outputs": [],
   "source": []
  }
 ],
 "metadata": {
  "kernelspec": {
   "display_name": "Python 3",
   "language": "python",
   "name": "python3"
  },
  "language_info": {
   "codemirror_mode": {
    "name": "ipython",
    "version": 3
   },
   "file_extension": ".py",
   "mimetype": "text/x-python",
   "name": "python",
   "nbconvert_exporter": "python",
   "pygments_lexer": "ipython3",
   "version": "3.7.3"
  }
 },
 "nbformat": 4,
 "nbformat_minor": 2
}
